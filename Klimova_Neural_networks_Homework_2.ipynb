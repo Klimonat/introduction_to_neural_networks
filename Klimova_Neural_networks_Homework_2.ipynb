{
  "nbformat": 4,
  "nbformat_minor": 0,
  "metadata": {
    "kernelspec": {
      "display_name": "Python 3",
      "language": "python",
      "name": "python3"
    },
    "language_info": {
      "codemirror_mode": {
        "name": "ipython",
        "version": 3
      },
      "file_extension": ".py",
      "mimetype": "text/x-python",
      "name": "python",
      "nbconvert_exporter": "python",
      "pygments_lexer": "ipython3",
      "version": "3.7.1"
    },
    "colab": {
      "name": "Klimova_Neural_networks_Homework_2.ipynb",
      "provenance": [],
      "collapsed_sections": []
    },
    "accelerator": "GPU"
  },
  "cells": [
    {
      "cell_type": "markdown",
      "metadata": {
        "id": "XvhEhpGm9U8z"
      },
      "source": [
        "# Введение в искусственные нейронные сети\n",
        "# Урок 2. Keras"
      ]
    },
    {
      "cell_type": "markdown",
      "source": [
        "## Практическое задание\n",
        "\n",
        "Используем набор примеров fashion-MNIST\n",
        "\n",
        "1.  Опишите - какой результата получен в нейросети в зависимости от:\n",
        "  -  числа нейронов в слое(для 2-хслойной сети), \n",
        "  - числа слоев (2, 3, 5, 10) при близких размерах сети (близкое число тренируемых парметров).\n",
        "  - фиксируйте для тренировочного и тестового набора метрики accuracy.\n",
        "2.  Проверьте работу разных оптимизаторов (SGD, Adam, RMSProp) для одной из моделей п.1.Фиксируйте для тренировочного и тестового набора метрики accuracy.\n",
        "\n",
        "3. Сделайте вывод - что помогло вам улучшить качество классификации в нейросети на тестовом наборе? \n",
        "\n",
        "4. Для одного варианта сетей сформируйте матрицу ошибок по классам. Оцените качество модели по каждому классу отдельно (полнота , точность). Сделайте вывод."
      ],
      "metadata": {
        "id": "EDtUOV8dkqXh"
      }
    },
    {
      "cell_type": "code",
      "metadata": {
        "id": "TQMMZ_jw9U9N",
        "colab": {
          "base_uri": "https://localhost:8080/"
        },
        "outputId": "1c611e9f-753f-4d6e-d266-5e2b567ae4d5"
      },
      "source": [
        "import numpy as np\n",
        "import pandas as pd\n",
        "import keras\n",
        "from keras.datasets import fashion_mnist  # набор для работы\n",
        "import matplotlib.pyplot as plt\n",
        "from keras.models import Sequential\n",
        "from keras.layers import Dense\n",
        "from tensorflow.keras.utils import to_categorical\n",
        "from sklearn.metrics import confusion_matrix, classification_report\n",
        "\n",
        "\n",
        "(train_imagef, train_labelf),(test_imagef, test_labelf) = fashion_mnist.load_data()\n",
        "\n",
        "# Normalize the images.\n",
        "train_imagef = (train_imagef / 127) - 1\n",
        "test_imagef = (test_imagef / 127) - 1\n",
        "\n",
        "# Flatten the images.\n",
        "train_images = train_imagef.reshape((-1, 784))\n",
        "test_images = test_imagef.reshape((-1, 784))\n",
        "\n",
        "print(train_images.shape)\n",
        "print(test_images.shape)"
      ],
      "execution_count": 1,
      "outputs": [
        {
          "output_type": "stream",
          "name": "stdout",
          "text": [
            "(60000, 784)\n",
            "(10000, 784)\n"
          ]
        }
      ]
    },
    {
      "cell_type": "code",
      "source": [
        "n=1\n",
        "train_imagef[n,:,:].shape"
      ],
      "metadata": {
        "colab": {
          "base_uri": "https://localhost:8080/"
        },
        "id": "haGKRAidX8XT",
        "outputId": "7892ef2d-9ac6-4664-c318-35893332ce26"
      },
      "execution_count": 2,
      "outputs": [
        {
          "output_type": "execute_result",
          "data": {
            "text/plain": [
              "(28, 28)"
            ]
          },
          "metadata": {},
          "execution_count": 2
        }
      ]
    },
    {
      "cell_type": "code",
      "metadata": {
        "colab": {
          "base_uri": "https://localhost:8080/",
          "height": 282
        },
        "id": "1GG9Z5HDEEWW",
        "outputId": "6b0deb40-6dec-45b0-edd4-4b2a12a62442"
      },
      "source": [
        "n = 2005\n",
        "plt.imshow(train_imagef[n,:,:])\n",
        "plt.show()\n",
        "print(train_labelf[n])"
      ],
      "execution_count": 3,
      "outputs": [
        {
          "output_type": "display_data",
          "data": {
            "text/plain": [
              "<Figure size 432x288 with 1 Axes>"
            ],
            "image/png": "[encoded data removed]"
          },
          "metadata": {
            "needs_background": "light"
          }
        },
        {
          "output_type": "stream",
          "name": "stdout",
          "text": [
            "8\n"
          ]
        }
      ]
    },
    {
      "cell_type": "markdown",
      "metadata": {
        "id": "Y6btW5Oz9U9W"
      },
      "source": [
        "**Создание модели**"
      ]
    },
    {
      "cell_type": "markdown",
      "metadata": {
        "id": "rlO6abtO0oFX"
      },
      "source": [
        "Размер набора входных данных для обучения "
      ]
    },
    {
      "cell_type": "code",
      "metadata": {
        "id": "XLsN2KNiNHEf",
        "colab": {
          "base_uri": "https://localhost:8080/"
        },
        "outputId": "7b36a29a-28e5-40bc-b01e-709474dbbf90"
      },
      "source": [
        "train_images.shape,test_images.shape"
      ],
      "execution_count": 2,
      "outputs": [
        {
          "output_type": "execute_result",
          "data": {
            "text/plain": [
              "((60000, 784), (10000, 784))"
            ]
          },
          "metadata": {},
          "execution_count": 2
        }
      ]
    },
    {
      "cell_type": "code",
      "metadata": {
        "id": "vT7VLh_SEcZS"
      },
      "source": [
        "# Build the model.\n",
        "model_params = Sequential([\n",
        "  Dense(128, activation='tanh', input_shape=(784,)),\n",
        "  Dense(110, activation='tanh'), # Скрытый слой из 110 нейронов с активацией tanh\n",
        "  Dense(100, activation='tanh'), # Скрытый слой k из 100 нейронов с активацией tanh\n",
        "  Dense(10, activation='softmax'),# выходной слой из 10 нейронов (сколько классов, столько нейронов) + активация softmax\n",
        "])\n",
        "\n",
        "# Compile the model.\n",
        "model_params.compile(\n",
        "  optimizer='adam',\n",
        "  loss='categorical_crossentropy',\n",
        "  metrics=['accuracy'],\n",
        ")"
      ],
      "execution_count": 3,
      "outputs": []
    },
    {
      "cell_type": "code",
      "metadata": {
        "id": "O5DOd_RAGZHQ",
        "colab": {
          "base_uri": "https://localhost:8080/"
        },
        "outputId": "5af55c64-705a-4967-895e-80bbc7a9dcbe"
      },
      "source": [
        "model_params.summary()"
      ],
      "execution_count": 4,
      "outputs": [
        {
          "output_type": "stream",
          "name": "stdout",
          "text": [
            "Model: \"sequential\"\n",
            "_________________________________________________________________\n",
            " Layer (type)                Output Shape              Param #   \n",
            "=================================================================\n",
            " dense (Dense)               (None, 128)               100480    \n",
            "                                                                 \n",
            " dense_1 (Dense)             (None, 110)               14190     \n",
            "                                                                 \n",
            " dense_2 (Dense)             (None, 100)               11100     \n",
            "                                                                 \n",
            " dense_3 (Dense)             (None, 10)                1010      \n",
            "                                                                 \n",
            "=================================================================\n",
            "Total params: 126,780\n",
            "Trainable params: 126,780\n",
            "Non-trainable params: 0\n",
            "_________________________________________________________________\n"
          ]
        }
      ]
    },
    {
      "cell_type": "markdown",
      "metadata": {
        "id": "Og3zBOXKUt6Q"
      },
      "source": [
        "Превратим выходы в векторые (OHE в keras - from keras.utils import to_categorical)"
      ]
    },
    {
      "cell_type": "code",
      "metadata": {
        "colab": {
          "base_uri": "https://localhost:8080/"
        },
        "id": "r4vfB93ZMa7k",
        "outputId": "323d17ce-119c-44ce-c1be-8f9272d45d54"
      },
      "source": [
        "train_labelf[:5]"
      ],
      "execution_count": 5,
      "outputs": [
        {
          "output_type": "execute_result",
          "data": {
            "text/plain": [
              "array([9, 0, 0, 3, 0], dtype=uint8)"
            ]
          },
          "metadata": {},
          "execution_count": 5
        }
      ]
    },
    {
      "cell_type": "code",
      "metadata": {
        "id": "fXgYOrUwGwzG"
      },
      "source": [
        "y_t = to_categorical(train_labelf)\n",
        "y_tt = to_categorical(test_labelf)"
      ],
      "execution_count": 6,
      "outputs": []
    },
    {
      "cell_type": "code",
      "metadata": {
        "colab": {
          "base_uri": "https://localhost:8080/"
        },
        "id": "HWKHT3kpG6yw",
        "outputId": "3765c18b-0e9b-4579-db2e-c4ede879ae73"
      },
      "source": [
        "y_t[:3,:]"
      ],
      "execution_count": 7,
      "outputs": [
        {
          "output_type": "execute_result",
          "data": {
            "text/plain": [
              "array([[0., 0., 0., 0., 0., 0., 0., 0., 0., 1.],\n",
              "       [1., 0., 0., 0., 0., 0., 0., 0., 0., 0.],\n",
              "       [1., 0., 0., 0., 0., 0., 0., 0., 0., 0.]], dtype=float32)"
            ]
          },
          "metadata": {},
          "execution_count": 7
        }
      ]
    },
    {
      "cell_type": "code",
      "metadata": {
        "colab": {
          "base_uri": "https://localhost:8080/"
        },
        "id": "13v9kMf5Ouq_",
        "outputId": "73e6d5ad-2dc0-4454-cb90-66266b277183"
      },
      "source": [
        "train_labelf[:5]"
      ],
      "execution_count": 8,
      "outputs": [
        {
          "output_type": "execute_result",
          "data": {
            "text/plain": [
              "array([9, 0, 0, 3, 0], dtype=uint8)"
            ]
          },
          "metadata": {},
          "execution_count": 8
        }
      ]
    },
    {
      "cell_type": "markdown",
      "metadata": {
        "id": "Xk1EavOKVBqI"
      },
      "source": [
        "Посмотрим на реакции модели до обучения - уже можно:)"
      ]
    },
    {
      "cell_type": "code",
      "metadata": {
        "id": "x6q31tJQLuol"
      },
      "source": [
        "y_pred = model_params.predict(test_images[:5,:])"
      ],
      "execution_count": 9,
      "outputs": []
    },
    {
      "cell_type": "code",
      "metadata": {
        "colab": {
          "base_uri": "https://localhost:8080/"
        },
        "id": "qM07Ce8IMKPh",
        "outputId": "eefe4dfd-88d8-4722-dd1e-6dc24b6921ef"
      },
      "source": [
        "y_pred[0,:]"
      ],
      "execution_count": 10,
      "outputs": [
        {
          "output_type": "execute_result",
          "data": {
            "text/plain": [
              "array([0.12386731, 0.03098087, 0.07742542, 0.13387126, 0.07581783,\n",
              "       0.05244214, 0.07918812, 0.28140706, 0.05479141, 0.09020863],\n",
              "      dtype=float32)"
            ]
          },
          "metadata": {},
          "execution_count": 10
        }
      ]
    },
    {
      "cell_type": "code",
      "metadata": {
        "colab": {
          "base_uri": "https://localhost:8080/"
        },
        "id": "iFZ8fTdWL-2x",
        "outputId": "41bf97b1-2338-47a5-f1b8-becb3ddc61ba"
      },
      "source": [
        "y_class = np.argmax(y_pred, axis=1)\n",
        "print(y_class) # [7, 2, 1, 0, 4]"
      ],
      "execution_count": 11,
      "outputs": [
        {
          "output_type": "stream",
          "name": "stdout",
          "text": [
            "[7 8 3 3 7]\n"
          ]
        }
      ]
    },
    {
      "cell_type": "code",
      "metadata": {
        "colab": {
          "base_uri": "https://localhost:8080/",
          "height": 281
        },
        "id": "4XpTnd6bO2lt",
        "outputId": "dce893b9-c6ba-4b55-9eb2-052bef2530d4"
      },
      "source": [
        "n = 1\n",
        "plt.imshow(test_imagef[n,:,:])\n",
        "plt.title('clothes - '+str(y_class[n]))\n",
        "plt.show()"
      ],
      "execution_count": 12,
      "outputs": [
        {
          "output_type": "display_data",
          "data": {
            "text/plain": [
              "<Figure size 432x288 with 1 Axes>"
            ],
            "image/png": "[encoded data removed]"
          },
          "metadata": {
            "needs_background": "light"
          }
        }
      ]
    },
    {
      "cell_type": "code",
      "source": [
        "df_result = pd.DataFrame()"
      ],
      "metadata": {
        "id": "xc_Y_Fn1vBlJ"
      },
      "execution_count": 13,
      "outputs": []
    },
    {
      "cell_type": "code",
      "source": [
        "number_of_neurons = [[128, 110, 100, 10], [128, 50, 25, 10], [256, 220, 200, 10],\n",
        "                     [512, 256, 256, 10], [128, 110, 100, 10], [64, 52, 24, 10]]\n",
        "for neurons in number_of_neurons:\n",
        "  # Build the model.\n",
        "  model_params = Sequential([\n",
        "    Dense(neurons[0], activation='tanh', input_shape=(784,)),\n",
        "    Dense(neurons[1], activation='tanh'), # Скрытый слой с активацией tanh\n",
        "    Dense(neurons[2], activation='tanh'), # Скрытый слой с активацией tanh\n",
        "    Dense(neurons[3], activation='softmax'),# выходной слой из 10 нейронов (сколько классов, столько нейронов) + активация softmax\n",
        "  ])\n",
        "\n",
        "  # Compile the model.\n",
        "  model_params.compile(\n",
        "    optimizer='adam',\n",
        "    loss='categorical_crossentropy',\n",
        "    metrics=['accuracy'],\n",
        "  )\n",
        "\n",
        "  # Train the model.\n",
        "  hh_train = model_params.fit(    \n",
        "    train_images[:,:],\n",
        "    y_t[:,:],\n",
        "    epochs=5,\n",
        "    batch_size=32, validation_split=0.2\n",
        "  )\n",
        "\n",
        "  # Evaluate the model.\n",
        "  hh_test = model_params.evaluate( \n",
        "    test_images,\n",
        "    y_tt\n",
        "  )\n",
        "  dict_result = dict()\n",
        "  dict_result['neurons'] = (neurons[0], )\n",
        "  dict_result['neurons_1'] = (neurons[1], )\n",
        "  dict_result['neurons_2'] = (neurons[2], )\n",
        "  dict_result['train_accuracy'] = hh_train.history['accuracy'][-1]\n",
        "  dict_result['test_accuracy'] = hh_test[-1]\n",
        "  df_result = pd.concat([df_result, pd.DataFrame(dict_result).reset_index()], ignore_index=True)"
      ],
      "metadata": {
        "colab": {
          "base_uri": "https://localhost:8080/"
        },
        "id": "OE8HMUFhsqqO",
        "outputId": "5026f7da-edb1-4b2d-8c2b-2054c75d8f6b"
      },
      "execution_count": 14,
      "outputs": [
        {
          "output_type": "stream",
          "name": "stdout",
          "text": [
            "Epoch 1/5\n",
            "1500/1500 [==============================] - 13s 8ms/step - loss: 0.5034 - accuracy: 0.8176 - val_loss: 0.4218 - val_accuracy: 0.8438\n",
            "Epoch 2/5\n",
            "1500/1500 [==============================] - 10s 7ms/step - loss: 0.4005 - accuracy: 0.8534 - val_loss: 0.3852 - val_accuracy: 0.8623\n",
            "Epoch 3/5\n",
            "1500/1500 [==============================] - 6s 4ms/step - loss: 0.3708 - accuracy: 0.8641 - val_loss: 0.3779 - val_accuracy: 0.8648\n",
            "Epoch 4/5\n",
            "1500/1500 [==============================] - 6s 4ms/step - loss: 0.3533 - accuracy: 0.8703 - val_loss: 0.3874 - val_accuracy: 0.8572\n",
            "Epoch 5/5\n",
            "1500/1500 [==============================] - 6s 4ms/step - loss: 0.3408 - accuracy: 0.8748 - val_loss: 0.3936 - val_accuracy: 0.8522\n",
            "313/313 [==============================] - 1s 4ms/step - loss: 0.4066 - accuracy: 0.8507\n",
            "Epoch 1/5\n",
            "1500/1500 [==============================] - 6s 4ms/step - loss: 0.5434 - accuracy: 0.8154 - val_loss: 0.4336 - val_accuracy: 0.8460\n",
            "Epoch 2/5\n",
            "1500/1500 [==============================] - 6s 4ms/step - loss: 0.4180 - accuracy: 0.8502 - val_loss: 0.4333 - val_accuracy: 0.8467\n",
            "Epoch 3/5\n",
            "1500/1500 [==============================] - 6s 4ms/step - loss: 0.3875 - accuracy: 0.8607 - val_loss: 0.3984 - val_accuracy: 0.8567\n",
            "Epoch 4/5\n",
            "1500/1500 [==============================] - 6s 4ms/step - loss: 0.3664 - accuracy: 0.8674 - val_loss: 0.3871 - val_accuracy: 0.8615\n",
            "Epoch 5/5\n",
            "1500/1500 [==============================] - 6s 4ms/step - loss: 0.3538 - accuracy: 0.8717 - val_loss: 0.3873 - val_accuracy: 0.8623\n",
            "313/313 [==============================] - 1s 4ms/step - loss: 0.4168 - accuracy: 0.8525\n",
            "Epoch 1/5\n",
            "1500/1500 [==============================] - 7s 4ms/step - loss: 0.5129 - accuracy: 0.8132 - val_loss: 0.4220 - val_accuracy: 0.8461\n",
            "Epoch 2/5\n",
            "1500/1500 [==============================] - 6s 4ms/step - loss: 0.4035 - accuracy: 0.8502 - val_loss: 0.4151 - val_accuracy: 0.8477\n",
            "Epoch 3/5\n",
            "1500/1500 [==============================] - 6s 4ms/step - loss: 0.3726 - accuracy: 0.8620 - val_loss: 0.3821 - val_accuracy: 0.8622\n",
            "Epoch 4/5\n",
            "1500/1500 [==============================] - 6s 4ms/step - loss: 0.3580 - accuracy: 0.8677 - val_loss: 0.3719 - val_accuracy: 0.8653\n",
            "Epoch 5/5\n",
            "1500/1500 [==============================] - 6s 4ms/step - loss: 0.3420 - accuracy: 0.8716 - val_loss: 0.3639 - val_accuracy: 0.8679\n",
            "313/313 [==============================] - 1s 4ms/step - loss: 0.3821 - accuracy: 0.8628\n",
            "Epoch 1/5\n",
            "1500/1500 [==============================] - 8s 5ms/step - loss: 0.5197 - accuracy: 0.8116 - val_loss: 0.4222 - val_accuracy: 0.8498\n",
            "Epoch 2/5\n",
            "1500/1500 [==============================] - 7s 5ms/step - loss: 0.4148 - accuracy: 0.8478 - val_loss: 0.4047 - val_accuracy: 0.8493\n",
            "Epoch 3/5\n",
            "1500/1500 [==============================] - 7s 5ms/step - loss: 0.3882 - accuracy: 0.8575 - val_loss: 0.4233 - val_accuracy: 0.8457\n",
            "Epoch 4/5\n",
            "1500/1500 [==============================] - 7s 5ms/step - loss: 0.3742 - accuracy: 0.8631 - val_loss: 0.3929 - val_accuracy: 0.8563\n",
            "Epoch 5/5\n",
            "1500/1500 [==============================] - 7s 5ms/step - loss: 0.3596 - accuracy: 0.8671 - val_loss: 0.3928 - val_accuracy: 0.8540\n",
            "313/313 [==============================] - 1s 4ms/step - loss: 0.4172 - accuracy: 0.8482\n",
            "Epoch 1/5\n",
            "1500/1500 [==============================] - 7s 4ms/step - loss: 0.5000 - accuracy: 0.8188 - val_loss: 0.4198 - val_accuracy: 0.8497\n",
            "Epoch 2/5\n",
            "1500/1500 [==============================] - 6s 4ms/step - loss: 0.3976 - accuracy: 0.8542 - val_loss: 0.4319 - val_accuracy: 0.8439\n",
            "Epoch 3/5\n",
            "1500/1500 [==============================] - 6s 4ms/step - loss: 0.3706 - accuracy: 0.8626 - val_loss: 0.3875 - val_accuracy: 0.8587\n",
            "Epoch 4/5\n",
            "1500/1500 [==============================] - 6s 4ms/step - loss: 0.3514 - accuracy: 0.8716 - val_loss: 0.3909 - val_accuracy: 0.8587\n",
            "Epoch 5/5\n",
            "1500/1500 [==============================] - 6s 4ms/step - loss: 0.3440 - accuracy: 0.8728 - val_loss: 0.3916 - val_accuracy: 0.8591\n",
            "313/313 [==============================] - 1s 4ms/step - loss: 0.4180 - accuracy: 0.8517\n",
            "Epoch 1/5\n",
            "1500/1500 [==============================] - 6s 4ms/step - loss: 0.5517 - accuracy: 0.8109 - val_loss: 0.4247 - val_accuracy: 0.8469\n",
            "Epoch 2/5\n",
            "1500/1500 [==============================] - 6s 4ms/step - loss: 0.4133 - accuracy: 0.8515 - val_loss: 0.4317 - val_accuracy: 0.8432\n",
            "Epoch 3/5\n",
            "1500/1500 [==============================] - 6s 4ms/step - loss: 0.3832 - accuracy: 0.8609 - val_loss: 0.3814 - val_accuracy: 0.8590\n",
            "Epoch 4/5\n",
            "1500/1500 [==============================] - 6s 4ms/step - loss: 0.3633 - accuracy: 0.8673 - val_loss: 0.3844 - val_accuracy: 0.8603\n",
            "Epoch 5/5\n",
            "1500/1500 [==============================] - 6s 4ms/step - loss: 0.3477 - accuracy: 0.8726 - val_loss: 0.3960 - val_accuracy: 0.8566\n",
            "313/313 [==============================] - 1s 4ms/step - loss: 0.4117 - accuracy: 0.8521\n"
          ]
        }
      ]
    },
    {
      "cell_type": "code",
      "source": [
        "df_result"
      ],
      "metadata": {
        "colab": {
          "base_uri": "https://localhost:8080/",
          "height": 237
        },
        "id": "wUxLHQit2BSZ",
        "outputId": "9e28f6b8-4ef5-4a61-df09-e47f7cc59766"
      },
      "execution_count": 15,
      "outputs": [
        {
          "output_type": "execute_result",
          "data": {
            "text/plain": [
              "   index  neurons  neurons_1  neurons_2  train_accuracy  test_accuracy\n",
              "0      0      128        110        100        0.874792         0.8507\n",
              "1      0      128         50         25        0.871687         0.8525\n",
              "2      0      256        220        200        0.871625         0.8628\n",
              "3      0      512        256        256        0.867125         0.8482\n",
              "4      0      128        110        100        0.872813         0.8517\n",
              "5      0       64         52         24        0.872646         0.8521"
            ],
            "text/html": [
              "\n",
              "  <div id=\"df-ac6ebea4-e84d-4c96-9cb0-90fec9126d86\">\n",
              "    <div class=\"colab-df-container\">\n",
              "      <div>\n",
              "<style scoped>\n",
              "    .dataframe tbody tr th:only-of-type {\n",
              "        vertical-align: middle;\n",
              "    }\n",
              "\n",
              "    .dataframe tbody tr th {\n",
              "        vertical-align: top;\n",
              "    }\n",
              "\n",
              "    .dataframe thead th {\n",
              "        text-align: right;\n",
              "    }\n",
              "</style>\n",
              "<table border=\"1\" class=\"dataframe\">\n",
              "  <thead>\n",
              "    <tr style=\"text-align: right;\">\n",
              "      <th></th>\n",
              "      <th>index</th>\n",
              "      <th>neurons</th>\n",
              "      <th>neurons_1</th>\n",
              "      <th>neurons_2</th>\n",
              "      <th>train_accuracy</th>\n",
              "      <th>test_accuracy</th>\n",
              "    </tr>\n",
              "  </thead>\n",
              "  <tbody>\n",
              "    <tr>\n",
              "      <th>0</th>\n",
              "      <td>0</td>\n",
              "      <td>128</td>\n",
              "      <td>110</td>\n",
              "      <td>100</td>\n",
              "      <td>0.874792</td>\n",
              "      <td>0.8507</td>\n",
              "    </tr>\n",
              "    <tr>\n",
              "      <th>1</th>\n",
              "      <td>0</td>\n",
              "      <td>128</td>\n",
              "      <td>50</td>\n",
              "      <td>25</td>\n",
              "      <td>0.871687</td>\n",
              "      <td>0.8525</td>\n",
              "    </tr>\n",
              "    <tr>\n",
              "      <th>2</th>\n",
              "      <td>0</td>\n",
              "      <td>256</td>\n",
              "      <td>220</td>\n",
              "      <td>200</td>\n",
              "      <td>0.871625</td>\n",
              "      <td>0.8628</td>\n",
              "    </tr>\n",
              "    <tr>\n",
              "      <th>3</th>\n",
              "      <td>0</td>\n",
              "      <td>512</td>\n",
              "      <td>256</td>\n",
              "      <td>256</td>\n",
              "      <td>0.867125</td>\n",
              "      <td>0.8482</td>\n",
              "    </tr>\n",
              "    <tr>\n",
              "      <th>4</th>\n",
              "      <td>0</td>\n",
              "      <td>128</td>\n",
              "      <td>110</td>\n",
              "      <td>100</td>\n",
              "      <td>0.872813</td>\n",
              "      <td>0.8517</td>\n",
              "    </tr>\n",
              "    <tr>\n",
              "      <th>5</th>\n",
              "      <td>0</td>\n",
              "      <td>64</td>\n",
              "      <td>52</td>\n",
              "      <td>24</td>\n",
              "      <td>0.872646</td>\n",
              "      <td>0.8521</td>\n",
              "    </tr>\n",
              "  </tbody>\n",
              "</table>\n",
              "</div>\n",
              "      <button class=\"colab-df-convert\" onclick=\"convertToInteractive('df-ac6ebea4-e84d-4c96-9cb0-90fec9126d86')\"\n",
              "              title=\"Convert this dataframe to an interactive table.\"\n",
              "              style=\"display:none;\">\n",
              "        \n",
              "  <svg xmlns=\"http://www.w3.org/2000/svg\" height=\"24px\"viewBox=\"0 0 24 24\"\n",
              "       width=\"24px\">\n",
              "    <path d=\"M0 0h24v24H0V0z\" fill=\"none\"/>\n",
              "    <path d=\"M18.56 5.44l.94 2.06.94-2.06 2.06-.94-2.06-.94-.94-2.06-.94 2.06-2.06.94zm-11 1L8.5 8.5l.94-2.06 2.06-.94-2.06-.94L8.5 2.5l-.94 2.06-2.06.94zm10 10l.94 2.06.94-2.06 2.06-.94-2.06-.94-.94-2.06-.94 2.06-2.06.94z\"/><path d=\"M17.41 7.96l-1.37-1.37c-.4-.4-.92-.59-1.43-.59-.52 0-1.04.2-1.43.59L10.3 9.45l-7.72 7.72c-.78.78-.78 2.05 0 2.83L4 21.41c.39.39.9.59 1.41.59.51 0 1.02-.2 1.41-.59l7.78-7.78 2.81-2.81c.8-.78.8-2.07 0-2.86zM5.41 20L4 18.59l7.72-7.72 1.47 1.35L5.41 20z\"/>\n",
              "  </svg>\n",
              "      </button>\n",
              "      \n",
              "  <style>\n",
              "    .colab-df-container {\n",
              "      display:flex;\n",
              "      flex-wrap:wrap;\n",
              "      gap: 12px;\n",
              "    }\n",
              "\n",
              "    .colab-df-convert {\n",
              "      background-color: #E8F0FE;\n",
              "      border: none;\n",
              "      border-radius: 50%;\n",
              "      cursor: pointer;\n",
              "      display: none;\n",
              "      fill: #1967D2;\n",
              "      height: 32px;\n",
              "      padding: 0 0 0 0;\n",
              "      width: 32px;\n",
              "    }\n",
              "\n",
              "    .colab-df-convert:hover {\n",
              "      background-color: #E2EBFA;\n",
              "      box-shadow: 0px 1px 2px rgba(60, 64, 67, 0.3), 0px 1px 3px 1px rgba(60, 64, 67, 0.15);\n",
              "      fill: #174EA6;\n",
              "    }\n",
              "\n",
              "    [theme=dark] .colab-df-convert {\n",
              "      background-color: #3B4455;\n",
              "      fill: #D2E3FC;\n",
              "    }\n",
              "\n",
              "    [theme=dark] .colab-df-convert:hover {\n",
              "      background-color: #434B5C;\n",
              "      box-shadow: 0px 1px 3px 1px rgba(0, 0, 0, 0.15);\n",
              "      filter: drop-shadow(0px 1px 2px rgba(0, 0, 0, 0.3));\n",
              "      fill: #FFFFFF;\n",
              "    }\n",
              "  </style>\n",
              "\n",
              "      <script>\n",
              "        const buttonEl =\n",
              "          document.querySelector('#df-ac6ebea4-e84d-4c96-9cb0-90fec9126d86 button.colab-df-convert');\n",
              "        buttonEl.style.display =\n",
              "          google.colab.kernel.accessAllowed ? 'block' : 'none';\n",
              "\n",
              "        async function convertToInteractive(key) {\n",
              "          const element = document.querySelector('#df-ac6ebea4-e84d-4c96-9cb0-90fec9126d86');\n",
              "          const dataTable =\n",
              "            await google.colab.kernel.invokeFunction('convertToInteractive',\n",
              "                                                     [key], {});\n",
              "          if (!dataTable) return;\n",
              "\n",
              "          const docLinkHtml = 'Like what you see? Visit the ' +\n",
              "            '<a target=\"_blank\" href=https://colab.research.google.com/notebooks/data_table.ipynb>data table notebook</a>'\n",
              "            + ' to learn more about interactive tables.';\n",
              "          element.innerHTML = '';\n",
              "          dataTable['output_type'] = 'display_data';\n",
              "          await google.colab.output.renderOutput(dataTable, element);\n",
              "          const docLink = document.createElement('div');\n",
              "          docLink.innerHTML = docLinkHtml;\n",
              "          element.appendChild(docLink);\n",
              "        }\n",
              "      </script>\n",
              "    </div>\n",
              "  </div>\n",
              "  "
            ]
          },
          "metadata": {},
          "execution_count": 15
        }
      ]
    },
    {
      "cell_type": "code",
      "source": [
        "model_2_layer = Sequential([\n",
        "    Dense(512, activation='tanh', input_shape=(784,)),\n",
        "    Dense(256, activation='tanh'), # Скрытый слой с активацией tanh\n",
        "    Dense(128, activation='tanh'), # Скрытый слой с активацией tanh\n",
        "    Dense(10, activation='softmax'),# выходной слой из 10 нейронов (сколько классов, столько нейронов) + активация softmax\n",
        "  ])\n",
        "\n",
        "model_3_layer = Sequential([\n",
        "    Dense(512, activation='tanh', input_shape=(784,)),\n",
        "    Dense(226, activation='tanh'), # Скрытый слой с активацией tanh\n",
        "    Dense(170, activation='tanh'), # Скрытый слой с активацией tanh\n",
        "    Dense(56, activation='tanh'), # Скрытый слой с активацией tanh\n",
        "    Dense(10, activation='softmax'),# выходной слой из 10 нейронов (сколько классов, столько нейронов) + активация softmax\n",
        "  ])\n",
        "\n",
        "\n",
        "model_5_layer = Sequential([\n",
        "    Dense(512, activation='tanh', input_shape=(784,)),\n",
        "    Dense(230, activation='tanh'), # Скрытый слой с активацией tanh\n",
        "    Dense(130, activation='tanh'), # Скрытый слой с активацией tanh\n",
        "    Dense(90, activation='tanh'), # Скрытый слой с активацией tanh\n",
        "    Dense(50, activation='tanh'), # Скрытый слой с активацией tanh\n",
        "    Dense(25, activation='tanh'), # Скрытый слой с активацией tanh\n",
        "    Dense(10, activation='softmax'),# выходной слой из 10 нейронов (сколько классов, столько нейронов) + активация softmax\n",
        "  ])\n",
        "\n",
        "model_10_layer = Sequential([\n",
        "    Dense(512, activation='tanh', input_shape=(784,)),\n",
        "    Dense(165, activation='tanh'), # Скрытый слой с активацией tanh\n",
        "    Dense(125, activation='tanh'), # Скрытый слой с активацией tanh\n",
        "    Dense(120, activation='tanh'), # Скрытый слой с активацией tanh\n",
        "    Dense(115, activation='tanh'), # Скрытый слой с активацией tanh\n",
        "    Dense(100, activation='tanh'), # Скрытый слой с активацией tanh\n",
        "    Dense(85, activation='tanh'), # Скрытый слой с активацией tanh\n",
        "    Dense(70, activation='tanh'), # Скрытый слой с активацией tanh\n",
        "    Dense(40, activation='tanh'), # Скрытый слой с активацией tanh\n",
        "    Dense(25, activation='tanh'), # Скрытый слой с активацией tanh\n",
        "    Dense(20, activation='tanh'), # Скрытый слой с активацией tanh\n",
        "    Dense(10, activation='softmax'),# выходной слой из 10 нейронов (сколько классов, столько нейронов) + активация softmax\n",
        "  ])"
      ],
      "metadata": {
        "id": "9wdytcJz4NKD"
      },
      "execution_count": 16,
      "outputs": []
    },
    {
      "cell_type": "code",
      "source": [
        "model_2_layer.summary()"
      ],
      "metadata": {
        "colab": {
          "base_uri": "https://localhost:8080/"
        },
        "id": "Vrox5ONy48GS",
        "outputId": "a460fd4c-06a3-4178-eef0-9f0b397a0bbc"
      },
      "execution_count": 17,
      "outputs": [
        {
          "output_type": "stream",
          "name": "stdout",
          "text": [
            "Model: \"sequential_7\"\n",
            "_________________________________________________________________\n",
            " Layer (type)                Output Shape              Param #   \n",
            "=================================================================\n",
            " dense_28 (Dense)            (None, 512)               401920    \n",
            "                                                                 \n",
            " dense_29 (Dense)            (None, 256)               131328    \n",
            "                                                                 \n",
            " dense_30 (Dense)            (None, 128)               32896     \n",
            "                                                                 \n",
            " dense_31 (Dense)            (None, 10)                1290      \n",
            "                                                                 \n",
            "=================================================================\n",
            "Total params: 567,434\n",
            "Trainable params: 567,434\n",
            "Non-trainable params: 0\n",
            "_________________________________________________________________\n"
          ]
        }
      ]
    },
    {
      "cell_type": "code",
      "source": [
        "model_3_layer.summary()"
      ],
      "metadata": {
        "colab": {
          "base_uri": "https://localhost:8080/"
        },
        "id": "S-726lLr5muh",
        "outputId": "c2fed0dc-e911-4e5d-c7ea-809e60646fd6"
      },
      "execution_count": 18,
      "outputs": [
        {
          "output_type": "stream",
          "name": "stdout",
          "text": [
            "Model: \"sequential_8\"\n",
            "_________________________________________________________________\n",
            " Layer (type)                Output Shape              Param #   \n",
            "=================================================================\n",
            " dense_32 (Dense)            (None, 512)               401920    \n",
            "                                                                 \n",
            " dense_33 (Dense)            (None, 226)               115938    \n",
            "                                                                 \n",
            " dense_34 (Dense)            (None, 170)               38590     \n",
            "                                                                 \n",
            " dense_35 (Dense)            (None, 56)                9576      \n",
            "                                                                 \n",
            " dense_36 (Dense)            (None, 10)                570       \n",
            "                                                                 \n",
            "=================================================================\n",
            "Total params: 566,594\n",
            "Trainable params: 566,594\n",
            "Non-trainable params: 0\n",
            "_________________________________________________________________\n"
          ]
        }
      ]
    },
    {
      "cell_type": "code",
      "source": [
        "model_5_layer.summary()"
      ],
      "metadata": {
        "colab": {
          "base_uri": "https://localhost:8080/"
        },
        "id": "wWAjqior4NHM",
        "outputId": "45f49d79-821a-430f-d4fc-be56c98d718e"
      },
      "execution_count": 19,
      "outputs": [
        {
          "output_type": "stream",
          "name": "stdout",
          "text": [
            "Model: \"sequential_9\"\n",
            "_________________________________________________________________\n",
            " Layer (type)                Output Shape              Param #   \n",
            "=================================================================\n",
            " dense_37 (Dense)            (None, 512)               401920    \n",
            "                                                                 \n",
            " dense_38 (Dense)            (None, 230)               117990    \n",
            "                                                                 \n",
            " dense_39 (Dense)            (None, 130)               30030     \n",
            "                                                                 \n",
            " dense_40 (Dense)            (None, 90)                11790     \n",
            "                                                                 \n",
            " dense_41 (Dense)            (None, 50)                4550      \n",
            "                                                                 \n",
            " dense_42 (Dense)            (None, 25)                1275      \n",
            "                                                                 \n",
            " dense_43 (Dense)            (None, 10)                260       \n",
            "                                                                 \n",
            "=================================================================\n",
            "Total params: 567,815\n",
            "Trainable params: 567,815\n",
            "Non-trainable params: 0\n",
            "_________________________________________________________________\n"
          ]
        }
      ]
    },
    {
      "cell_type": "code",
      "source": [
        "model_10_layer.summary()"
      ],
      "metadata": {
        "colab": {
          "base_uri": "https://localhost:8080/"
        },
        "id": "vZnajsMY7pC2",
        "outputId": "9820bfcb-60a6-4a9a-d092-eec12dbb9938"
      },
      "execution_count": 20,
      "outputs": [
        {
          "output_type": "stream",
          "name": "stdout",
          "text": [
            "Model: \"sequential_10\"\n",
            "_________________________________________________________________\n",
            " Layer (type)                Output Shape              Param #   \n",
            "=================================================================\n",
            " dense_44 (Dense)            (None, 512)               401920    \n",
            "                                                                 \n",
            " dense_45 (Dense)            (None, 165)               84645     \n",
            "                                                                 \n",
            " dense_46 (Dense)            (None, 125)               20750     \n",
            "                                                                 \n",
            " dense_47 (Dense)            (None, 120)               15120     \n",
            "                                                                 \n",
            " dense_48 (Dense)            (None, 115)               13915     \n",
            "                                                                 \n",
            " dense_49 (Dense)            (None, 100)               11600     \n",
            "                                                                 \n",
            " dense_50 (Dense)            (None, 85)                8585      \n",
            "                                                                 \n",
            " dense_51 (Dense)            (None, 70)                6020      \n",
            "                                                                 \n",
            " dense_52 (Dense)            (None, 40)                2840      \n",
            "                                                                 \n",
            " dense_53 (Dense)            (None, 25)                1025      \n",
            "                                                                 \n",
            " dense_54 (Dense)            (None, 20)                520       \n",
            "                                                                 \n",
            " dense_55 (Dense)            (None, 10)                210       \n",
            "                                                                 \n",
            "=================================================================\n",
            "Total params: 567,150\n",
            "Trainable params: 567,150\n",
            "Non-trainable params: 0\n",
            "_________________________________________________________________\n"
          ]
        }
      ]
    },
    {
      "cell_type": "code",
      "source": [
        "df_result_model = pd.DataFrame()"
      ],
      "metadata": {
        "id": "lSgqxTKX9KP8"
      },
      "execution_count": 21,
      "outputs": []
    },
    {
      "cell_type": "code",
      "source": [
        "model_list = [model_2_layer, model_3_layer, model_5_layer, model_10_layer]\n",
        "model_name = ['2_layer', '3_layer', '5_layer', '10_layer']\n",
        "count = 0\n",
        "for model in model_list:\n",
        "  # Compile the model.\n",
        "    model.compile(\n",
        "      optimizer='adam',\n",
        "      loss='categorical_crossentropy',\n",
        "      metrics=['accuracy'],\n",
        "    )\n",
        "\n",
        "    # Train the model.\n",
        "    hh_train = model.fit(    \n",
        "      train_images[:,:],\n",
        "      y_t[:,:],\n",
        "      epochs=5,\n",
        "      batch_size=32, validation_split=0.2\n",
        "    )\n",
        "\n",
        "    # Evaluate the model.\n",
        "    hh_test = model.evaluate( \n",
        "      test_images,\n",
        "      y_tt\n",
        "    )\n",
        "    dict_result_model = dict()\n",
        "    dict_result_model['model'] = model_name[count]\n",
        "    count += 1\n",
        "    dict_result_model['train_accuracy'] = hh_train.history['accuracy'][-1]\n",
        "    dict_result_model['test_accuracy'] = hh_test[-1]\n",
        "    df_result_model = pd.concat([df_result_model, pd.DataFrame(dict_result_model, index=range(count,count+1)).reset_index()], ignore_index=True)"
      ],
      "metadata": {
        "colab": {
          "base_uri": "https://localhost:8080/"
        },
        "id": "TYd-pWqp4NEL",
        "outputId": "c0c7aa33-6f04-42af-ec65-656e99ba8d46"
      },
      "execution_count": 22,
      "outputs": [
        {
          "output_type": "stream",
          "name": "stdout",
          "text": [
            "Epoch 1/5\n",
            "1500/1500 [==============================] - 7s 4ms/step - loss: 0.5138 - accuracy: 0.8125 - val_loss: 0.4318 - val_accuracy: 0.8435\n",
            "Epoch 2/5\n",
            "1500/1500 [==============================] - 7s 5ms/step - loss: 0.4175 - accuracy: 0.8466 - val_loss: 0.4178 - val_accuracy: 0.8460\n",
            "Epoch 3/5\n",
            "1500/1500 [==============================] - 6s 4ms/step - loss: 0.3878 - accuracy: 0.8569 - val_loss: 0.3912 - val_accuracy: 0.8591\n",
            "Epoch 4/5\n",
            "1500/1500 [==============================] - 7s 5ms/step - loss: 0.3747 - accuracy: 0.8622 - val_loss: 0.4398 - val_accuracy: 0.8302\n",
            "Epoch 5/5\n",
            "1500/1500 [==============================] - 7s 5ms/step - loss: 0.3659 - accuracy: 0.8661 - val_loss: 0.3988 - val_accuracy: 0.8580\n",
            "313/313 [==============================] - 1s 4ms/step - loss: 0.4149 - accuracy: 0.8528\n",
            "Epoch 1/5\n",
            "1500/1500 [==============================] - 8s 5ms/step - loss: 0.5340 - accuracy: 0.8070 - val_loss: 0.4300 - val_accuracy: 0.8438\n",
            "Epoch 2/5\n",
            "1500/1500 [==============================] - 7s 5ms/step - loss: 0.4310 - accuracy: 0.8432 - val_loss: 0.4294 - val_accuracy: 0.8425\n",
            "Epoch 3/5\n",
            "1500/1500 [==============================] - 7s 5ms/step - loss: 0.4061 - accuracy: 0.8524 - val_loss: 0.4413 - val_accuracy: 0.8428\n",
            "Epoch 4/5\n",
            "1500/1500 [==============================] - 7s 5ms/step - loss: 0.3894 - accuracy: 0.8572 - val_loss: 0.4401 - val_accuracy: 0.8398\n",
            "Epoch 5/5\n",
            "1500/1500 [==============================] - 7s 5ms/step - loss: 0.3777 - accuracy: 0.8623 - val_loss: 0.3886 - val_accuracy: 0.8598\n",
            "313/313 [==============================] - 1s 4ms/step - loss: 0.4142 - accuracy: 0.8547\n",
            "Epoch 1/5\n",
            "1500/1500 [==============================] - 9s 5ms/step - loss: 0.5850 - accuracy: 0.7992 - val_loss: 0.4888 - val_accuracy: 0.8198\n",
            "Epoch 2/5\n",
            "1500/1500 [==============================] - 8s 5ms/step - loss: 0.4635 - accuracy: 0.8340 - val_loss: 0.4341 - val_accuracy: 0.8498\n",
            "Epoch 3/5\n",
            "1500/1500 [==============================] - 7s 5ms/step - loss: 0.4353 - accuracy: 0.8454 - val_loss: 0.4461 - val_accuracy: 0.8441\n",
            "Epoch 4/5\n",
            "1500/1500 [==============================] - 8s 5ms/step - loss: 0.4148 - accuracy: 0.8511 - val_loss: 0.4110 - val_accuracy: 0.8543\n",
            "Epoch 5/5\n",
            "1500/1500 [==============================] - 8s 5ms/step - loss: 0.3993 - accuracy: 0.8558 - val_loss: 0.4393 - val_accuracy: 0.8393\n",
            "313/313 [==============================] - 1s 4ms/step - loss: 0.4649 - accuracy: 0.8332\n",
            "Epoch 1/5\n",
            "1500/1500 [==============================] - 10s 6ms/step - loss: 0.6935 - accuracy: 0.7717 - val_loss: 0.5865 - val_accuracy: 0.7898\n",
            "Epoch 2/5\n",
            "1500/1500 [==============================] - 9s 6ms/step - loss: 0.5309 - accuracy: 0.8160 - val_loss: 0.5293 - val_accuracy: 0.8160\n",
            "Epoch 3/5\n",
            "1500/1500 [==============================] - 9s 6ms/step - loss: 0.5039 - accuracy: 0.8228 - val_loss: 0.5076 - val_accuracy: 0.8347\n",
            "Epoch 4/5\n",
            "1500/1500 [==============================] - 9s 6ms/step - loss: 0.4935 - accuracy: 0.8260 - val_loss: 0.4783 - val_accuracy: 0.8373\n",
            "Epoch 5/5\n",
            "1500/1500 [==============================] - 9s 6ms/step - loss: 0.4723 - accuracy: 0.8330 - val_loss: 0.4770 - val_accuracy: 0.8418\n",
            "313/313 [==============================] - 2s 4ms/step - loss: 0.4914 - accuracy: 0.8346\n"
          ]
        }
      ]
    },
    {
      "cell_type": "code",
      "source": [
        "df_result_model"
      ],
      "metadata": {
        "colab": {
          "base_uri": "https://localhost:8080/",
          "height": 175
        },
        "id": "7uMkVsmIsq56",
        "outputId": "fdfedb65-f306-49ba-9d52-97d4b8ca83aa"
      },
      "execution_count": 23,
      "outputs": [
        {
          "output_type": "execute_result",
          "data": {
            "text/plain": [
              "   index     model  train_accuracy  test_accuracy\n",
              "0      1   2_layer        0.866063         0.8528\n",
              "1      2   3_layer        0.862271         0.8547\n",
              "2      3   5_layer        0.855812         0.8332\n",
              "3      4  10_layer        0.833000         0.8346"
            ],
            "text/html": [
              "\n",
              "  <div id=\"df-e41e414c-a076-403b-a780-d27c3a7ffd32\">\n",
              "    <div class=\"colab-df-container\">\n",
              "      <div>\n",
              "<style scoped>\n",
              "    .dataframe tbody tr th:only-of-type {\n",
              "        vertical-align: middle;\n",
              "    }\n",
              "\n",
              "    .dataframe tbody tr th {\n",
              "        vertical-align: top;\n",
              "    }\n",
              "\n",
              "    .dataframe thead th {\n",
              "        text-align: right;\n",
              "    }\n",
              "</style>\n",
              "<table border=\"1\" class=\"dataframe\">\n",
              "  <thead>\n",
              "    <tr style=\"text-align: right;\">\n",
              "      <th></th>\n",
              "      <th>index</th>\n",
              "      <th>model</th>\n",
              "      <th>train_accuracy</th>\n",
              "      <th>test_accuracy</th>\n",
              "    </tr>\n",
              "  </thead>\n",
              "  <tbody>\n",
              "    <tr>\n",
              "      <th>0</th>\n",
              "      <td>1</td>\n",
              "      <td>2_layer</td>\n",
              "      <td>0.866063</td>\n",
              "      <td>0.8528</td>\n",
              "    </tr>\n",
              "    <tr>\n",
              "      <th>1</th>\n",
              "      <td>2</td>\n",
              "      <td>3_layer</td>\n",
              "      <td>0.862271</td>\n",
              "      <td>0.8547</td>\n",
              "    </tr>\n",
              "    <tr>\n",
              "      <th>2</th>\n",
              "      <td>3</td>\n",
              "      <td>5_layer</td>\n",
              "      <td>0.855812</td>\n",
              "      <td>0.8332</td>\n",
              "    </tr>\n",
              "    <tr>\n",
              "      <th>3</th>\n",
              "      <td>4</td>\n",
              "      <td>10_layer</td>\n",
              "      <td>0.833000</td>\n",
              "      <td>0.8346</td>\n",
              "    </tr>\n",
              "  </tbody>\n",
              "</table>\n",
              "</div>\n",
              "      <button class=\"colab-df-convert\" onclick=\"convertToInteractive('df-e41e414c-a076-403b-a780-d27c3a7ffd32')\"\n",
              "              title=\"Convert this dataframe to an interactive table.\"\n",
              "              style=\"display:none;\">\n",
              "        \n",
              "  <svg xmlns=\"http://www.w3.org/2000/svg\" height=\"24px\"viewBox=\"0 0 24 24\"\n",
              "       width=\"24px\">\n",
              "    <path d=\"M0 0h24v24H0V0z\" fill=\"none\"/>\n",
              "    <path d=\"M18.56 5.44l.94 2.06.94-2.06 2.06-.94-2.06-.94-.94-2.06-.94 2.06-2.06.94zm-11 1L8.5 8.5l.94-2.06 2.06-.94-2.06-.94L8.5 2.5l-.94 2.06-2.06.94zm10 10l.94 2.06.94-2.06 2.06-.94-2.06-.94-.94-2.06-.94 2.06-2.06.94z\"/><path d=\"M17.41 7.96l-1.37-1.37c-.4-.4-.92-.59-1.43-.59-.52 0-1.04.2-1.43.59L10.3 9.45l-7.72 7.72c-.78.78-.78 2.05 0 2.83L4 21.41c.39.39.9.59 1.41.59.51 0 1.02-.2 1.41-.59l7.78-7.78 2.81-2.81c.8-.78.8-2.07 0-2.86zM5.41 20L4 18.59l7.72-7.72 1.47 1.35L5.41 20z\"/>\n",
              "  </svg>\n",
              "      </button>\n",
              "      \n",
              "  <style>\n",
              "    .colab-df-container {\n",
              "      display:flex;\n",
              "      flex-wrap:wrap;\n",
              "      gap: 12px;\n",
              "    }\n",
              "\n",
              "    .colab-df-convert {\n",
              "      background-color: #E8F0FE;\n",
              "      border: none;\n",
              "      border-radius: 50%;\n",
              "      cursor: pointer;\n",
              "      display: none;\n",
              "      fill: #1967D2;\n",
              "      height: 32px;\n",
              "      padding: 0 0 0 0;\n",
              "      width: 32px;\n",
              "    }\n",
              "\n",
              "    .colab-df-convert:hover {\n",
              "      background-color: #E2EBFA;\n",
              "      box-shadow: 0px 1px 2px rgba(60, 64, 67, 0.3), 0px 1px 3px 1px rgba(60, 64, 67, 0.15);\n",
              "      fill: #174EA6;\n",
              "    }\n",
              "\n",
              "    [theme=dark] .colab-df-convert {\n",
              "      background-color: #3B4455;\n",
              "      fill: #D2E3FC;\n",
              "    }\n",
              "\n",
              "    [theme=dark] .colab-df-convert:hover {\n",
              "      background-color: #434B5C;\n",
              "      box-shadow: 0px 1px 3px 1px rgba(0, 0, 0, 0.15);\n",
              "      filter: drop-shadow(0px 1px 2px rgba(0, 0, 0, 0.3));\n",
              "      fill: #FFFFFF;\n",
              "    }\n",
              "  </style>\n",
              "\n",
              "      <script>\n",
              "        const buttonEl =\n",
              "          document.querySelector('#df-e41e414c-a076-403b-a780-d27c3a7ffd32 button.colab-df-convert');\n",
              "        buttonEl.style.display =\n",
              "          google.colab.kernel.accessAllowed ? 'block' : 'none';\n",
              "\n",
              "        async function convertToInteractive(key) {\n",
              "          const element = document.querySelector('#df-e41e414c-a076-403b-a780-d27c3a7ffd32');\n",
              "          const dataTable =\n",
              "            await google.colab.kernel.invokeFunction('convertToInteractive',\n",
              "                                                     [key], {});\n",
              "          if (!dataTable) return;\n",
              "\n",
              "          const docLinkHtml = 'Like what you see? Visit the ' +\n",
              "            '<a target=\"_blank\" href=https://colab.research.google.com/notebooks/data_table.ipynb>data table notebook</a>'\n",
              "            + ' to learn more about interactive tables.';\n",
              "          element.innerHTML = '';\n",
              "          dataTable['output_type'] = 'display_data';\n",
              "          await google.colab.output.renderOutput(dataTable, element);\n",
              "          const docLink = document.createElement('div');\n",
              "          docLink.innerHTML = docLinkHtml;\n",
              "          element.appendChild(docLink);\n",
              "        }\n",
              "      </script>\n",
              "    </div>\n",
              "  </div>\n",
              "  "
            ]
          },
          "metadata": {},
          "execution_count": 23
        }
      ]
    },
    {
      "cell_type": "code",
      "source": [
        "df_result_optimize = pd.DataFrame()"
      ],
      "metadata": {
        "id": "0ZC0X8BKDO-N"
      },
      "execution_count": 25,
      "outputs": []
    },
    {
      "cell_type": "code",
      "metadata": {
        "colab": {
          "base_uri": "https://localhost:8080/",
          "height": 527
        },
        "id": "jaqCLGg3w_Nl",
        "outputId": "c38b1fa3-cdc7-4e03-89d7-e9afb75c89fc"
      },
      "source": [
        "# создаем модель model\n",
        "model_optimize = Sequential([\n",
        "          Dense(256, activation='tanh', input_shape=(784,)),\n",
        "          Dense(220, activation='tanh'), # Скрытый слой с активацией tanh\n",
        "          Dense(200, activation='tanh'), # Скрытый слой с активацией tanh\n",
        "          Dense(10, activation='softmax'),# выходной слой из 10 нейронов (сколько классов, столько нейронов) + активация softmax\n",
        "        ])\n",
        "# сохраняем ее веса (это начальная точка) model.save_weights('model.h5')\n",
        "model_optimize.save_weights('model_optimize.h5')\n",
        "\n",
        "plt.figure(figsize=(16,7))\n",
        "\n",
        "# число рабочих эпох\n",
        "epochs = 5\n",
        "# вектор для вывода результатов\n",
        "epoch = np.arange(epochs+1)\n",
        "\n",
        "# будем изменять оптимизаторы\n",
        "\n",
        "#opt_list = [keras.optimizers.SGD( ),keras.optimizers.Adam( ),keras.optimizers.Nadam( )]\n",
        "for i_optim in ['SGD','RMSProp','adam','NAdam']:\n",
        "  # создаем рабочую модель modeli куда будем загружать эти вес (она должна быть идентичной структуры)\n",
        "  modeli = Sequential([\n",
        "          Dense(256, activation='tanh', input_shape=(784,)),\n",
        "          Dense(220, activation='tanh'), # Скрытый слой с активацией tanh\n",
        "          Dense(200, activation='tanh'), # Скрытый слой с активацией tanh\n",
        "          Dense(10, activation='softmax'),# выходной слой из 10 нейронов (сколько классов, столько нейронов) + активация softmax\n",
        "          ])\n",
        "  # загружаем веса modeli.load_weights('model.h5')\n",
        "  modeli.load_weights('model_optimize.h5')\n",
        "  # компилируем modeli с одним из оптимизаторов\n",
        "  modeli.compile(\n",
        "      optimizer=i_optim,\n",
        "      loss='categorical_crossentropy',\n",
        "      metrics=['accuracy'],\n",
        "      )\n",
        "  # вычисляем ошибку для modeli без обучения\n",
        "  hh0_tr = modeli.evaluate(  train_images[:48000,:], to_categorical(train_labelf[:48000]),verbose = 0)\n",
        "  hh0_val = modeli.evaluate(  train_images[48000:,:], to_categorical(train_labelf[48000:]),verbose = 0)\n",
        "  # проводим обучение модели \n",
        "  hh = modeli.fit(\n",
        "                  train_images,\n",
        "                  to_categorical(train_labelf),\n",
        "                  epochs=epochs,\n",
        "                  batch_size=32, validation_split=0.2, verbose = 0\n",
        "                  )\n",
        "  \n",
        "   #  вычисляем ошибку для modeli после обучения\n",
        "  hh_test = modeli.evaluate( \n",
        "      test_images,\n",
        "      y_tt\n",
        "    )\n",
        "  dict_result_optimize = dict()\n",
        "  dict_result_optimize['optimizer'] = i_optim\n",
        "  dict_result_optimize['train_accuracy'] = hh.history['accuracy'][-1]\n",
        "  dict_result_optimize['test_accuracy'] = hh_test[-1]\n",
        "  df_result_optimize = pd.concat([df_result_optimize, pd.DataFrame(dict_result_optimize, index=range(1)).reset_index()], ignore_index=True)\n",
        "  # картинки\n",
        "  plt.plot(epoch,np.log([hh0_tr[0]]+hh.history['loss']),'-',label = modeli.optimizer.get_config()['name']+' train')\n",
        "  plt.plot(epoch,np.log([hh0_val[0]]+hh.history['val_loss']),'--',label = modeli.optimizer.get_config()['name']+' val')\n",
        "plt.legend()\n",
        "plt.grid('On')\n",
        "\n",
        "plt.title('нейросети от оптимизатора log(loss)')\n",
        "plt.xlabel('epoch')\n",
        "plt.ylabel('log(loss)')\n",
        "plt.show()\n"
      ],
      "execution_count": 26,
      "outputs": [
        {
          "output_type": "stream",
          "name": "stdout",
          "text": [
            "313/313 [==============================] - 3s 7ms/step - loss: 0.3883 - accuracy: 0.8599\n",
            "313/313 [==============================] - 1s 4ms/step - loss: 0.3871 - accuracy: 0.8670\n",
            "313/313 [==============================] - 1s 4ms/step - loss: 0.4536 - accuracy: 0.8399\n",
            "313/313 [==============================] - 1s 4ms/step - loss: 0.4070 - accuracy: 0.8507\n"
          ]
        },
        {
          "output_type": "display_data",
          "data": {
            "text/plain": [
              "<Figure size 1152x504 with 1 Axes>"
            ],
            "image/png": "[encoded data removed]"
          },
          "metadata": {
            "needs_background": "light"
          }
        }
      ]
    },
    {
      "cell_type": "code",
      "source": [
        "df_result_optimize"
      ],
      "metadata": {
        "colab": {
          "base_uri": "https://localhost:8080/",
          "height": 175
        },
        "id": "vX_ZmNp_Nz6a",
        "outputId": "33edd6b1-cd0c-4eaf-c77f-5380a9efded3"
      },
      "execution_count": 27,
      "outputs": [
        {
          "output_type": "execute_result",
          "data": {
            "text/plain": [
              "   index optimizer  train_accuracy  test_accuracy\n",
              "0      0       SGD        0.875646         0.8599\n",
              "1      0   RMSProp        0.878229         0.8670\n",
              "2      0      adam        0.871333         0.8399\n",
              "3      0     NAdam        0.874979         0.8507"
            ],
            "text/html": [
              "\n",
              "  <div id=\"df-f015a083-c1c8-4d30-bce4-12ac0b33a557\">\n",
              "    <div class=\"colab-df-container\">\n",
              "      <div>\n",
              "<style scoped>\n",
              "    .dataframe tbody tr th:only-of-type {\n",
              "        vertical-align: middle;\n",
              "    }\n",
              "\n",
              "    .dataframe tbody tr th {\n",
              "        vertical-align: top;\n",
              "    }\n",
              "\n",
              "    .dataframe thead th {\n",
              "        text-align: right;\n",
              "    }\n",
              "</style>\n",
              "<table border=\"1\" class=\"dataframe\">\n",
              "  <thead>\n",
              "    <tr style=\"text-align: right;\">\n",
              "      <th></th>\n",
              "      <th>index</th>\n",
              "      <th>optimizer</th>\n",
              "      <th>train_accuracy</th>\n",
              "      <th>test_accuracy</th>\n",
              "    </tr>\n",
              "  </thead>\n",
              "  <tbody>\n",
              "    <tr>\n",
              "      <th>0</th>\n",
              "      <td>0</td>\n",
              "      <td>SGD</td>\n",
              "      <td>0.875646</td>\n",
              "      <td>0.8599</td>\n",
              "    </tr>\n",
              "    <tr>\n",
              "      <th>1</th>\n",
              "      <td>0</td>\n",
              "      <td>RMSProp</td>\n",
              "      <td>0.878229</td>\n",
              "      <td>0.8670</td>\n",
              "    </tr>\n",
              "    <tr>\n",
              "      <th>2</th>\n",
              "      <td>0</td>\n",
              "      <td>adam</td>\n",
              "      <td>0.871333</td>\n",
              "      <td>0.8399</td>\n",
              "    </tr>\n",
              "    <tr>\n",
              "      <th>3</th>\n",
              "      <td>0</td>\n",
              "      <td>NAdam</td>\n",
              "      <td>0.874979</td>\n",
              "      <td>0.8507</td>\n",
              "    </tr>\n",
              "  </tbody>\n",
              "</table>\n",
              "</div>\n",
              "      <button class=\"colab-df-convert\" onclick=\"convertToInteractive('df-f015a083-c1c8-4d30-bce4-12ac0b33a557')\"\n",
              "              title=\"Convert this dataframe to an interactive table.\"\n",
              "              style=\"display:none;\">\n",
              "        \n",
              "  <svg xmlns=\"http://www.w3.org/2000/svg\" height=\"24px\"viewBox=\"0 0 24 24\"\n",
              "       width=\"24px\">\n",
              "    <path d=\"M0 0h24v24H0V0z\" fill=\"none\"/>\n",
              "    <path d=\"M18.56 5.44l.94 2.06.94-2.06 2.06-.94-2.06-.94-.94-2.06-.94 2.06-2.06.94zm-11 1L8.5 8.5l.94-2.06 2.06-.94-2.06-.94L8.5 2.5l-.94 2.06-2.06.94zm10 10l.94 2.06.94-2.06 2.06-.94-2.06-.94-.94-2.06-.94 2.06-2.06.94z\"/><path d=\"M17.41 7.96l-1.37-1.37c-.4-.4-.92-.59-1.43-.59-.52 0-1.04.2-1.43.59L10.3 9.45l-7.72 7.72c-.78.78-.78 2.05 0 2.83L4 21.41c.39.39.9.59 1.41.59.51 0 1.02-.2 1.41-.59l7.78-7.78 2.81-2.81c.8-.78.8-2.07 0-2.86zM5.41 20L4 18.59l7.72-7.72 1.47 1.35L5.41 20z\"/>\n",
              "  </svg>\n",
              "      </button>\n",
              "      \n",
              "  <style>\n",
              "    .colab-df-container {\n",
              "      display:flex;\n",
              "      flex-wrap:wrap;\n",
              "      gap: 12px;\n",
              "    }\n",
              "\n",
              "    .colab-df-convert {\n",
              "      background-color: #E8F0FE;\n",
              "      border: none;\n",
              "      border-radius: 50%;\n",
              "      cursor: pointer;\n",
              "      display: none;\n",
              "      fill: #1967D2;\n",
              "      height: 32px;\n",
              "      padding: 0 0 0 0;\n",
              "      width: 32px;\n",
              "    }\n",
              "\n",
              "    .colab-df-convert:hover {\n",
              "      background-color: #E2EBFA;\n",
              "      box-shadow: 0px 1px 2px rgba(60, 64, 67, 0.3), 0px 1px 3px 1px rgba(60, 64, 67, 0.15);\n",
              "      fill: #174EA6;\n",
              "    }\n",
              "\n",
              "    [theme=dark] .colab-df-convert {\n",
              "      background-color: #3B4455;\n",
              "      fill: #D2E3FC;\n",
              "    }\n",
              "\n",
              "    [theme=dark] .colab-df-convert:hover {\n",
              "      background-color: #434B5C;\n",
              "      box-shadow: 0px 1px 3px 1px rgba(0, 0, 0, 0.15);\n",
              "      filter: drop-shadow(0px 1px 2px rgba(0, 0, 0, 0.3));\n",
              "      fill: #FFFFFF;\n",
              "    }\n",
              "  </style>\n",
              "\n",
              "      <script>\n",
              "        const buttonEl =\n",
              "          document.querySelector('#df-f015a083-c1c8-4d30-bce4-12ac0b33a557 button.colab-df-convert');\n",
              "        buttonEl.style.display =\n",
              "          google.colab.kernel.accessAllowed ? 'block' : 'none';\n",
              "\n",
              "        async function convertToInteractive(key) {\n",
              "          const element = document.querySelector('#df-f015a083-c1c8-4d30-bce4-12ac0b33a557');\n",
              "          const dataTable =\n",
              "            await google.colab.kernel.invokeFunction('convertToInteractive',\n",
              "                                                     [key], {});\n",
              "          if (!dataTable) return;\n",
              "\n",
              "          const docLinkHtml = 'Like what you see? Visit the ' +\n",
              "            '<a target=\"_blank\" href=https://colab.research.google.com/notebooks/data_table.ipynb>data table notebook</a>'\n",
              "            + ' to learn more about interactive tables.';\n",
              "          element.innerHTML = '';\n",
              "          dataTable['output_type'] = 'display_data';\n",
              "          await google.colab.output.renderOutput(dataTable, element);\n",
              "          const docLink = document.createElement('div');\n",
              "          docLink.innerHTML = docLinkHtml;\n",
              "          element.appendChild(docLink);\n",
              "        }\n",
              "      </script>\n",
              "    </div>\n",
              "  </div>\n",
              "  "
            ]
          },
          "metadata": {},
          "execution_count": 27
        }
      ]
    },
    {
      "cell_type": "code",
      "source": [
        "best_model = Sequential([\n",
        "          Dense(256, activation='tanh', input_shape=(784,)),\n",
        "          Dense(220, activation='tanh'), # Скрытый слой с активацией tanh\n",
        "          Dense(200, activation='tanh'), # Скрытый слой с активацией tanh\n",
        "          Dense(10, activation='softmax'),# выходной слой из 10 нейронов (сколько классов, столько нейронов) + активация softmax\n",
        "          ])\n",
        "\n",
        "best_model.compile(\n",
        "      optimizer='RMSProp',\n",
        "      loss='categorical_crossentropy',\n",
        "      metrics=['accuracy'],\n",
        "      )\n",
        "  # проводим обучение модели \n",
        "hh_best = best_model.fit(\n",
        "                train_images,\n",
        "                to_categorical(train_labelf),\n",
        "                epochs=epochs,\n",
        "                batch_size=32, validation_split=0.2, verbose = 0\n",
        "                )\n",
        "  \n",
        "   #  вычисляем ошибку для modeli после обучения\n",
        "hh_test_best = best_model.evaluate( \n",
        "      test_images,\n",
        "      y_tt\n",
        "    )\n",
        "\n",
        "prediction = best_model.predict(test_images)"
      ],
      "metadata": {
        "colab": {
          "base_uri": "https://localhost:8080/"
        },
        "id": "oX6m-IRkN6Ed",
        "outputId": "cc5cf991-1997-4294-91df-83f4bbe387e6"
      },
      "execution_count": 28,
      "outputs": [
        {
          "output_type": "stream",
          "name": "stdout",
          "text": [
            "313/313 [==============================] - 1s 4ms/step - loss: 0.3877 - accuracy: 0.8640\n"
          ]
        }
      ]
    },
    {
      "cell_type": "code",
      "source": [
        "y_test_arg = np.argmax(prediction, axis=1)"
      ],
      "metadata": {
        "id": "Sin77IilJk5M"
      },
      "execution_count": 29,
      "outputs": []
    },
    {
      "cell_type": "code",
      "source": [
        "confusion_matrix(test_labelf, y_test_arg, labels=[0, 1, 2, 3, 4, 5, 6, 7, 8, 9])"
      ],
      "metadata": {
        "colab": {
          "base_uri": "https://localhost:8080/"
        },
        "id": "aVKJ2QSqCVi5",
        "outputId": "3a8f662c-0abe-473e-cf3f-b5864ff62386"
      },
      "execution_count": 30,
      "outputs": [
        {
          "output_type": "execute_result",
          "data": {
            "text/plain": [
              "array([[793,   0,  24,  19,   4,   2, 150,   0,   7,   1],\n",
              "       [  8, 959,   2,  23,   4,   0,   4,   0,   0,   0],\n",
              "       [ 10,   0, 855,  11,  78,   1,  43,   0,   2,   0],\n",
              "       [ 35,   7,   9, 884,  26,   1,  34,   0,   4,   0],\n",
              "       [  1,   1, 124,  41, 785,   0,  44,   0,   4,   0],\n",
              "       [  0,   0,   0,   1,   0, 939,   0,  46,   1,  13],\n",
              "       [110,   0, 148,  23, 122,   0, 587,   0,  10,   0],\n",
              "       [  0,   0,   0,   0,   0,  27,   0, 963,   0,  10],\n",
              "       [  0,   0,   8,  10,   3,   5,  11,   5, 958,   0],\n",
              "       [  0,   0,   0,   1,   0,  14,   0,  68,   0, 917]])"
            ]
          },
          "metadata": {},
          "execution_count": 30
        }
      ]
    },
    {
      "cell_type": "code",
      "source": [
        "print(classification_report(test_labelf, y_test_arg, labels=[0, 1, 2, 3, 4, 5, 6, 7, 8, 9]))"
      ],
      "metadata": {
        "colab": {
          "base_uri": "https://localhost:8080/"
        },
        "id": "ibJI-Iq_Hhdg",
        "outputId": "4c9b58cd-dae5-45ab-c150-4b5f5dfe3d34"
      },
      "execution_count": 31,
      "outputs": [
        {
          "output_type": "stream",
          "name": "stdout",
          "text": [
            "              precision    recall  f1-score   support\n",
            "\n",
            "           0       0.83      0.79      0.81      1000\n",
            "           1       0.99      0.96      0.98      1000\n",
            "           2       0.73      0.85      0.79      1000\n",
            "           3       0.87      0.88      0.88      1000\n",
            "           4       0.77      0.79      0.78      1000\n",
            "           5       0.95      0.94      0.94      1000\n",
            "           6       0.67      0.59      0.63      1000\n",
            "           7       0.89      0.96      0.93      1000\n",
            "           8       0.97      0.96      0.96      1000\n",
            "           9       0.97      0.92      0.94      1000\n",
            "\n",
            "    accuracy                           0.86     10000\n",
            "   macro avg       0.86      0.86      0.86     10000\n",
            "weighted avg       0.86      0.86      0.86     10000\n",
            "\n"
          ]
        }
      ]
    },
    {
      "cell_type": "markdown",
      "source": [
        "Выводы:\n",
        "1. Наилучший результат показала нейронная сеть, с 256\tнейронами во входном слое, 220 нейронами в первом скрытом слое,\t200 нейронами во втором скрытом слое и 10 нейронами в выходном слое. Наблюдается следующая закономерность: чем больше нейронов в сети, тем лучший результат показывает модель, если она не переобучена.\n",
        "2. При увеличении количества скрытых слоёв модель показывала более плохие результаты.\n",
        "3. Среди оптимизаторов наиболее хороший результат показала модель с оптимизацией RMSProp"
      ],
      "metadata": {
        "id": "myTsbT0wJsZF"
      }
    }
  ]
}